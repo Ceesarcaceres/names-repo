{
 "cells": [
  {
   "cell_type": "markdown",
   "id": "df3d6474",
   "metadata": {},
   "source": [
    "### Names \n",
    "\n",
    "This analysis contains the numbers of births equal my name (Cesar) and with the same sex along the years.\n",
    "\n",
    "All data is public and available in this source: https://www.ssa.gov/OACT/babynames/background.html"
   ]
  },
  {
   "cell_type": "code",
   "execution_count": 1,
   "id": "b2107ec1",
   "metadata": {},
   "outputs": [],
   "source": [
    "import pandas as pd\n",
    "import numpy as np\n",
    "import matplotlib.pyplot as plt\n",
    "import warnings\n",
    "warnings.filterwarnings(\"ignore\")\n",
    "%matplotlib inline"
   ]
  },
  {
   "cell_type": "code",
   "execution_count": 2,
   "id": "5ac4c846",
   "metadata": {},
   "outputs": [],
   "source": [
    "from google.cloud import bigquery\n",
    "from google.oauth2 import service_account\n",
    "credentials = service_account.Credentials.from_service_account_file('./Projeto_python_bq/python-api-gads-5adb7d92600d.json')"
   ]
  },
  {
   "cell_type": "code",
   "execution_count": 3,
   "id": "ced31bb5",
   "metadata": {},
   "outputs": [],
   "source": [
    "project_id = 'python-api-gads'\n",
    "client = bigquery.Client(credentials = credentials, project = project_id)"
   ]
  },
  {
   "cell_type": "code",
   "execution_count": 4,
   "id": "0ba32235",
   "metadata": {},
   "outputs": [
    {
     "name": "stdout",
     "output_type": "stream",
     "text": [
      "Total Row Numbers:  6311504\n"
     ]
    }
   ],
   "source": [
    "query_job = client.query(\"\"\"SELECT * FROM `python-api-gads.views_US.vw_names`\"\"\")\n",
    "results = query_job.result()\n",
    "print(\"Total Row Numbers: \", results.total_rows)"
   ]
  },
  {
   "cell_type": "code",
   "execution_count": 5,
   "id": "d8e3090f",
   "metadata": {},
   "outputs": [],
   "source": [
    "df = results.to_dataframe()"
   ]
  },
  {
   "cell_type": "code",
   "execution_count": 6,
   "id": "8883e8fb",
   "metadata": {},
   "outputs": [],
   "source": [
    "data = pd.DataFrame(df)"
   ]
  },
  {
   "cell_type": "code",
   "execution_count": 7,
   "id": "638c3c6d",
   "metadata": {},
   "outputs": [
    {
     "data": {
      "text/html": [
       "<div>\n",
       "<style scoped>\n",
       "    .dataframe tbody tr th:only-of-type {\n",
       "        vertical-align: middle;\n",
       "    }\n",
       "\n",
       "    .dataframe tbody tr th {\n",
       "        vertical-align: top;\n",
       "    }\n",
       "\n",
       "    .dataframe thead th {\n",
       "        text-align: right;\n",
       "    }\n",
       "</style>\n",
       "<table border=\"1\" class=\"dataframe\">\n",
       "  <thead>\n",
       "    <tr style=\"text-align: right;\">\n",
       "      <th></th>\n",
       "      <th>state</th>\n",
       "      <th>gender</th>\n",
       "      <th>year</th>\n",
       "      <th>name</th>\n",
       "      <th>number</th>\n",
       "    </tr>\n",
       "  </thead>\n",
       "  <tbody>\n",
       "    <tr>\n",
       "      <th>0</th>\n",
       "      <td>AK</td>\n",
       "      <td>F</td>\n",
       "      <td>1910</td>\n",
       "      <td>Annie</td>\n",
       "      <td>12</td>\n",
       "    </tr>\n",
       "    <tr>\n",
       "      <th>1</th>\n",
       "      <td>AK</td>\n",
       "      <td>F</td>\n",
       "      <td>1910</td>\n",
       "      <td>Margaret</td>\n",
       "      <td>8</td>\n",
       "    </tr>\n",
       "    <tr>\n",
       "      <th>2</th>\n",
       "      <td>AK</td>\n",
       "      <td>F</td>\n",
       "      <td>1911</td>\n",
       "      <td>Ruth</td>\n",
       "      <td>7</td>\n",
       "    </tr>\n",
       "    <tr>\n",
       "      <th>3</th>\n",
       "      <td>AK</td>\n",
       "      <td>F</td>\n",
       "      <td>1911</td>\n",
       "      <td>Elizabeth</td>\n",
       "      <td>6</td>\n",
       "    </tr>\n",
       "    <tr>\n",
       "      <th>4</th>\n",
       "      <td>AK</td>\n",
       "      <td>F</td>\n",
       "      <td>1911</td>\n",
       "      <td>Helen</td>\n",
       "      <td>6</td>\n",
       "    </tr>\n",
       "  </tbody>\n",
       "</table>\n",
       "</div>"
      ],
      "text/plain": [
       "  state gender  year       name  number\n",
       "0    AK      F  1910      Annie      12\n",
       "1    AK      F  1910   Margaret       8\n",
       "2    AK      F  1911       Ruth       7\n",
       "3    AK      F  1911  Elizabeth       6\n",
       "4    AK      F  1911      Helen       6"
      ]
     },
     "execution_count": 7,
     "metadata": {},
     "output_type": "execute_result"
    }
   ],
   "source": [
    "data.head()"
   ]
  },
  {
   "cell_type": "code",
   "execution_count": 8,
   "id": "fd4dbd57",
   "metadata": {},
   "outputs": [
    {
     "data": {
      "text/plain": [
       "state     object\n",
       "gender    object\n",
       "year       Int64\n",
       "name      object\n",
       "number     Int64\n",
       "dtype: object"
      ]
     },
     "execution_count": 8,
     "metadata": {},
     "output_type": "execute_result"
    }
   ],
   "source": [
    "data.dtypes"
   ]
  },
  {
   "cell_type": "code",
   "execution_count": 9,
   "id": "b0b08284",
   "metadata": {},
   "outputs": [
    {
     "data": {
      "text/plain": [
       "0              Annie\n",
       "1           Margaret\n",
       "2               Ruth\n",
       "3          Elizabeth\n",
       "4              Helen\n",
       "             ...    \n",
       "6311499    Remington\n",
       "6311500      Vincent\n",
       "6311501        Jonah\n",
       "6311502       Marcus\n",
       "6311503        Ronan\n",
       "Name: name, Length: 6311504, dtype: object"
      ]
     },
     "execution_count": 9,
     "metadata": {},
     "output_type": "execute_result"
    }
   ],
   "source": [
    "data[\"name\"]"
   ]
  },
  {
   "cell_type": "code",
   "execution_count": 10,
   "id": "e5fbc637",
   "metadata": {},
   "outputs": [
    {
     "name": "stdout",
     "output_type": "stream",
     "text": [
      "        state gender  year   name  number\n",
      "5291689    TX      M  1916  Cesar       7\n",
      "6164566    TX      M  1919  Cesar       5\n",
      "6164903    TX      M  1920  Cesar       5\n",
      "6165207    TX      M  1921  Cesar       5\n",
      "6166465    TX      M  1925  Cesar       8\n",
      "...       ...    ...   ...    ...     ...\n",
      "5287013    TN      M  2021  Cesar      17\n",
      "5102144    FL      M  2021  Cesar      34\n",
      "3706685    GA      M  2021  Cesar      21\n",
      "4093062    MA      M  2021  Cesar       7\n",
      "5457481    IN      M  2021  Cesar       6\n",
      "\n",
      "[1388 rows x 5 columns]\n"
     ]
    }
   ],
   "source": [
    "name = data.loc[data['name'] == \"Cesar\"][data['gender'] == 'M'].sort_values(by=['year'])\n",
    "print(name)"
   ]
  },
  {
   "cell_type": "code",
   "execution_count": 11,
   "id": "2502e534",
   "metadata": {},
   "outputs": [],
   "source": [
    "date = name[\"year\"].astype(int)\n",
    "value = name[\"number\"].astype(int)"
   ]
  },
  {
   "cell_type": "code",
   "execution_count": 12,
   "id": "5ebeb1a1",
   "metadata": {},
   "outputs": [
    {
     "data": {
      "text/plain": [
       "<AxesSubplot:xlabel='year', ylabel='number'>"
      ]
     },
     "execution_count": 12,
     "metadata": {},
     "output_type": "execute_result"
    },
    {
     "data": {
      "image/png": "[encoded data removed]",
      "text/plain": [
       "<Figure size 432x288 with 1 Axes>"
      ]
     },
     "metadata": {},
     "output_type": "display_data"
    }
   ],
   "source": [
    "import seaborn as sns\n",
    "sns.set_theme(style = \"darkgrid\")\n",
    "sns.set_context(\"paper\", font_scale=1.2, rc={\"lines.linewidth\": 2.5})\n",
    "sns.lineplot(x = date, y = value)"
   ]
  },
  {
   "cell_type": "markdown",
   "id": "12d6937a",
   "metadata": {},
   "source": [
    "We can see that after 60's the name Cesar it's grow 33% and after 93's, the year that I born, the name it's decreasing considerably pass the years, back to the same value on 60's.\n",
    "\n",
    "What's the trend for my name next years ?"
   ]
  },
  {
   "cell_type": "code",
   "execution_count": 13,
   "id": "600ab7fe",
   "metadata": {},
   "outputs": [],
   "source": [
    "#fig, ax = plt.subplots(figsize = (12,8))\n",
    "#ax.plot(date, value)"
   ]
  }
 ],
 "metadata": {
  "kernelspec": {
   "display_name": "Python 3 (ipykernel)",
   "language": "python",
   "name": "python3"
  },
  "language_info": {
   "codemirror_mode": {
    "name": "ipython",
    "version": 3
   },
   "file_extension": ".py",
   "mimetype": "text/x-python",
   "name": "python",
   "nbconvert_exporter": "python",
   "pygments_lexer": "ipython3",
   "version": "3.10.7"
  }
 },
 "nbformat": 4,
 "nbformat_minor": 5
}
